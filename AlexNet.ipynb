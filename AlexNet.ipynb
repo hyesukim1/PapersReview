{
  "nbformat": 4,
  "nbformat_minor": 0,
  "metadata": {
    "colab": {
      "name": "AlexNet.ipynb",
      "private_outputs": true,
      "provenance": [],
      "authorship_tag": "ABX9TyPQKNQ9T/fFAXjJwVnE+LVt",
      "include_colab_link": true
    },
    "kernelspec": {
      "name": "python3",
      "display_name": "Python 3"
    },
    "language_info": {
      "name": "python"
    }
  },
  "cells": [
    {
      "cell_type": "markdown",
      "metadata": {
        "id": "view-in-github",
        "colab_type": "text"
      },
      "source": [
        "<a href=\"https://colab.research.google.com/github/hyesukim1/PapersReview/blob/main/AlexNet.ipynb\" target=\"_parent\"><img src=\"https://colab.research.google.com/assets/colab-badge.svg\" alt=\"Open In Colab\"/></a>"
      ]
    },
    {
      "cell_type": "code",
      "execution_count": null,
      "metadata": {
        "id": "upFr0n8G_PR9"
      },
      "outputs": [],
      "source": [
        "import tensorflow as tf\n",
        "from keras.models import Sequential\n",
        "from keras.layers import Dense, Activation, Conv2D, MaxPooling2D, ZeroPadding2D, Flatten, Dropout"
      ]
    },
    {
      "cell_type": "code",
      "source": [
        "model = Sequential()\n",
        "image_shape = (256, 256, 3)\n",
        "image_classes = 1000"
      ],
      "metadata": {
        "id": "aAiNPMDe_QyJ"
      },
      "execution_count": null,
      "outputs": []
    },
    {
      "cell_type": "code",
      "source": [
        "# 레이어 1\n",
        "model.add(Conv2D(96, (11, 11), input_shape=image_shape, padding='same'))\n",
        "model.add(Activation('relu'))\n",
        "model.add(MaxPooling2D(pool_size=(2, 2)))\n",
        "\n",
        "# 레이어 2\n",
        "model.add(Conv2D(256, (5, 5), padding='same'))\n",
        "model.add(Activation('relu'))\n",
        "model.add(MaxPooling2D(pool_size=(2,2)))\n",
        "\n",
        "# 레이어 3\n",
        "model.add(ZeroPadding2D((1,1)))\n",
        "model.add(Conv2D(384, (3, 3), padding='same'))\n",
        "model.add(Activation('relu'))\n",
        "\n",
        "# 레이어 4\n",
        "model.add(ZeroPadding2D((1,1)))\n",
        "model.add(Conv2D(384, (3, 3), padding='same'))\n",
        "model.add(Activation('relu'))\n",
        "\n",
        "# 레이어 5\n",
        "model.add(ZeroPadding2D((1,1)))\n",
        "model.add(Conv2D(256, (3,3), padding='same'))\n",
        "model.add(Activation('relu'))\n",
        "model.add(MaxPooling2D(pool_size=(2,2)))\n",
        "\n",
        "# 레이어 6\n",
        "model.add(Flatten())\n",
        "model.add(Dense(4096))\n",
        "model.add(Activation('relu'))\n",
        "model.add(Dropout(0.5))\n",
        "\n",
        "# 레이어 7\n",
        "model.add(Dense(4096))\n",
        "model.add(Activation('relu'))\n",
        "model.add(Dropout(0.5))\n",
        "\n",
        "# 레이어 8\n",
        "model.add(Dense(image_classes))\n",
        "model.add(Activation('softmax'))"
      ],
      "metadata": {
        "id": "0dpyNB6FBt-d"
      },
      "execution_count": null,
      "outputs": []
    },
    {
      "cell_type": "code",
      "source": [
        "model.summary()"
      ],
      "metadata": {
        "id": "QARE4z1bmsFU"
      },
      "execution_count": null,
      "outputs": []
    },
    {
      "cell_type": "code",
      "source": [
        ""
      ],
      "metadata": {
        "id": "-hUolvs4p54a"
      },
      "execution_count": null,
      "outputs": []
    }
  ]
}